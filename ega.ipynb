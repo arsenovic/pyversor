{
 "cells": [
  {
   "cell_type": "code",
   "execution_count": 65,
   "metadata": {},
   "outputs": [],
   "source": [
    "import sys\n",
    "sys.path.append('build')\n",
    "\n",
    "import numpy as np\n",
    "import numpy.random as rnd\n",
    "\n",
    "from pyversor import ega, cga\n",
    "import pickle"
   ]
  },
  {
   "cell_type": "code",
   "execution_count": 66,
   "metadata": {},
   "outputs": [],
   "source": [
    "import zmq\n",
    "import random\n",
    "import sys\n",
    "import time"
   ]
  },
  {
   "cell_type": "code",
   "execution_count": 117,
   "metadata": {},
   "outputs": [],
   "source": [
    "ts = np.linspace(0, np.pi * 4, 200)\n",
    "screw = cga.DualLine(*rnd.randn(6)).unit()"
   ]
  },
  {
   "cell_type": "code",
   "execution_count": 118,
   "metadata": {},
   "outputs": [],
   "source": [
    "def send(data):\n",
    "    port = \"5556\"\n",
    "    context = zmq.Context()\n",
    "    socket = context.socket(zmq.PAIR)\n",
    "    socket.connect(\"tcp://localhost:%s\" % port)\n",
    "    socket.send(data)\n",
    "    socket.close()"
   ]
  },
  {
   "cell_type": "code",
   "execution_count": 119,
   "metadata": {},
   "outputs": [],
   "source": [
    "def draw_exp():\n",
    "    motors = [cga.generate.exp(t  * screw) for t in ts]\n",
    "    points = [ega.Vector(1,0,0).null().spin(motor) for motor in motors]\n",
    "    data = pickle.dumps(points)\n",
    "    send(data)"
   ]
  },
  {
   "cell_type": "code",
   "execution_count": 120,
   "metadata": {},
   "outputs": [],
   "source": [
    "def draw_cayley():\n",
    "    motors = [cga.generate.cayley(t * screw) for t in ts]\n",
    "    points = [ega.Vector(1,0,0).null().spin(motor) for motor in motors]\n",
    "    data = pickle.dumps(points)\n",
    "    send(data)"
   ]
  },
  {
   "cell_type": "code",
   "execution_count": 121,
   "metadata": {},
   "outputs": [],
   "source": [
    "def draw_oexp():\n",
    "    motors = [cga.generate.outer_exp(t * screw) for t in ts]\n",
    "    points = [ega.Vector(1,0,0).null().spin(motor) for motor in motors]\n",
    "    data = pickle.dumps(points)\n",
    "    send(data)"
   ]
  },
  {
   "cell_type": "code",
   "execution_count": 115,
   "metadata": {},
   "outputs": [],
   "source": [
    "draw_exp()"
   ]
  },
  {
   "cell_type": "code",
   "execution_count": 116,
   "metadata": {},
   "outputs": [],
   "source": [
    "draw_cayley()"
   ]
  },
  {
   "cell_type": "code",
   "execution_count": 111,
   "metadata": {},
   "outputs": [],
   "source": [
    "draw_oexp()"
   ]
  },
  {
   "cell_type": "code",
   "execution_count": null,
   "metadata": {},
   "outputs": [],
   "source": []
  }
 ],
 "metadata": {
  "kernelspec": {
   "display_name": "Python 3",
   "language": "python",
   "name": "python3"
  },
  "language_info": {
   "codemirror_mode": {
    "name": "ipython",
    "version": 3
   },
   "file_extension": ".py",
   "mimetype": "text/x-python",
   "name": "python",
   "nbconvert_exporter": "python",
   "pygments_lexer": "ipython3",
   "version": "3.6.2"
  }
 },
 "nbformat": 4,
 "nbformat_minor": 2
}
