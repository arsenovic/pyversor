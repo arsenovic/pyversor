{
 "cells": [
  {
   "cell_type": "code",
   "execution_count": 1,
   "metadata": {},
   "outputs": [],
   "source": [
    "from vispy import app\n",
    "from vispy import io\n",
    "from vispy import scene, visuals\n",
    "from vispy.visuals.transforms import MatrixTransform, STTransform\n",
    "import math\n",
    "from vispy import app, gloo\n",
    "from vispy.color import Color"
   ]
  },
  {
   "cell_type": "code",
   "execution_count": 2,
   "metadata": {},
   "outputs": [
    {
     "name": "stderr",
     "output_type": "stream",
     "text": [
      "/home/lars/.conda/envs/pyversor/lib/python3.6/site-packages/IPython/html.py:14: ShimWarning: The `IPython.html` package has been deprecated since IPython 4.0. You should import from `notebook` instead. `IPython.html.widgets` has moved to `ipywidgets`.\n",
      "  \"`IPython.html.widgets` has moved to `ipywidgets`.\", ShimWarning)\n"
     ]
    }
   ],
   "source": [
    "app.use_app('w')\n",
    "app.set_interactive()"
   ]
  },
  {
   "cell_type": "code",
   "execution_count": 3,
   "metadata": {},
   "outputs": [],
   "source": [
    "class Canvas(app.Canvas):\n",
    "\n",
    "    def __init__(self, *args, **kwargs):\n",
    "        app.Canvas.__init__(self, *args, **kwargs)\n",
    "        self._timer = app.Timer('auto', connect=self.on_timer, start=True)\n",
    "        self.color = 'white'\n",
    "\n",
    "    def on_draw(self, event):\n",
    "        gloo.clear(color=True)\n",
    "\n",
    "    def on_timer(self, event):\n",
    "        # Animation speed based on global time.\n",
    "        t = event.elapsed\n",
    "        c = Color(self.color).rgb\n",
    "        # Simple sinusoid wave animation.\n",
    "        s = abs(0.5 + 0.5 * math.sin(t))\n",
    "        self.context.set_clear_color((c[0] * s, c[1] * s, c[2] * s, 1))\n",
    "        self.update()"
   ]
  },
  {
   "cell_type": "code",
   "execution_count": 4,
   "metadata": {},
   "outputs": [
    {
     "ename": "AttributeError",
     "evalue": "'VispyWidget' object has no attribute 'on_msg'",
     "output_type": "error",
     "traceback": [
      "\u001b[0;31m---------------------------------------------------------------------------\u001b[0m",
      "\u001b[0;31mAttributeError\u001b[0m                            Traceback (most recent call last)",
      "\u001b[0;32m<ipython-input-4-0b2ba5025da4>\u001b[0m in \u001b[0;36m<module>\u001b[0;34m()\u001b[0m\n\u001b[1;32m      1\u001b[0m \u001b[0mcanvas\u001b[0m \u001b[0;34m=\u001b[0m \u001b[0mCanvas\u001b[0m\u001b[0;34m(\u001b[0m\u001b[0mkeys\u001b[0m\u001b[0;34m=\u001b[0m\u001b[0;34m'interactive'\u001b[0m\u001b[0;34m)\u001b[0m\u001b[0;34m\u001b[0m\u001b[0m\n\u001b[0;32m----> 2\u001b[0;31m \u001b[0mcanvas\u001b[0m\u001b[0;34m.\u001b[0m\u001b[0mshow\u001b[0m\u001b[0;34m(\u001b[0m\u001b[0;34m)\u001b[0m\u001b[0;34m\u001b[0m\u001b[0m\n\u001b[0m",
      "\u001b[0;32m~/devel/vispy/vispy/app/canvas.py\u001b[0m in \u001b[0;36mshow\u001b[0;34m(self, visible, run)\u001b[0m\n\u001b[1;32m    427\u001b[0m             \u001b[0mRun\u001b[0m \u001b[0mthe\u001b[0m \u001b[0mbackend\u001b[0m \u001b[0mevent\u001b[0m \u001b[0mloop\u001b[0m\u001b[0;34m.\u001b[0m\u001b[0;34m\u001b[0m\u001b[0m\n\u001b[1;32m    428\u001b[0m         \"\"\"\n\u001b[0;32m--> 429\u001b[0;31m         \u001b[0mself\u001b[0m\u001b[0;34m.\u001b[0m\u001b[0m_backend\u001b[0m\u001b[0;34m.\u001b[0m\u001b[0m_vispy_set_visible\u001b[0m\u001b[0;34m(\u001b[0m\u001b[0mvisible\u001b[0m\u001b[0;34m)\u001b[0m\u001b[0;34m\u001b[0m\u001b[0m\n\u001b[0m\u001b[1;32m    430\u001b[0m         \u001b[0;32mif\u001b[0m \u001b[0mrun\u001b[0m\u001b[0;34m:\u001b[0m\u001b[0;34m\u001b[0m\u001b[0m\n\u001b[1;32m    431\u001b[0m             \u001b[0mself\u001b[0m\u001b[0;34m.\u001b[0m\u001b[0mapp\u001b[0m\u001b[0;34m.\u001b[0m\u001b[0mrun\u001b[0m\u001b[0;34m(\u001b[0m\u001b[0;34m)\u001b[0m\u001b[0;34m\u001b[0m\u001b[0m\n",
      "\u001b[0;32m~/devel/vispy/vispy/app/backends/_ipynb_webgl.py\u001b[0m in \u001b[0;36m_vispy_set_visible\u001b[0;34m(self, visible)\u001b[0m\n\u001b[1;32m    206\u001b[0m             \u001b[0;32mreturn\u001b[0m\u001b[0;34m\u001b[0m\u001b[0m\n\u001b[1;32m    207\u001b[0m         \u001b[0;32mif\u001b[0m \u001b[0mself\u001b[0m\u001b[0;34m.\u001b[0m\u001b[0m_widget\u001b[0m \u001b[0;32mis\u001b[0m \u001b[0;32mNone\u001b[0m\u001b[0;34m:\u001b[0m\u001b[0;34m\u001b[0m\u001b[0m\n\u001b[0;32m--> 208\u001b[0;31m             \u001b[0mself\u001b[0m\u001b[0;34m.\u001b[0m\u001b[0m_widget\u001b[0m \u001b[0;34m=\u001b[0m \u001b[0mVispyWidget\u001b[0m\u001b[0;34m(\u001b[0m\u001b[0;34m)\u001b[0m\u001b[0;34m\u001b[0m\u001b[0m\n\u001b[0m\u001b[1;32m    209\u001b[0m             \u001b[0mself\u001b[0m\u001b[0;34m.\u001b[0m\u001b[0m_widget\u001b[0m\u001b[0;34m.\u001b[0m\u001b[0mset_canvas\u001b[0m\u001b[0;34m(\u001b[0m\u001b[0mself\u001b[0m\u001b[0;34m.\u001b[0m\u001b[0m_vispy_canvas\u001b[0m\u001b[0;34m)\u001b[0m\u001b[0;34m\u001b[0m\u001b[0m\n\u001b[1;32m    210\u001b[0m         \u001b[0mdisplay\u001b[0m\u001b[0;34m(\u001b[0m\u001b[0mself\u001b[0m\u001b[0;34m.\u001b[0m\u001b[0m_widget\u001b[0m\u001b[0;34m)\u001b[0m\u001b[0;34m\u001b[0m\u001b[0m\n",
      "\u001b[0;32m~/devel/vispy/vispy/app/backends/ipython/_widget.py\u001b[0m in \u001b[0;36m__init__\u001b[0;34m(self, **kwargs)\u001b[0m\n\u001b[1;32m     51\u001b[0m     \u001b[0;32mdef\u001b[0m \u001b[0m__init__\u001b[0m\u001b[0;34m(\u001b[0m\u001b[0mself\u001b[0m\u001b[0;34m,\u001b[0m \u001b[0;34m**\u001b[0m\u001b[0mkwargs\u001b[0m\u001b[0;34m)\u001b[0m\u001b[0;34m:\u001b[0m\u001b[0;34m\u001b[0m\u001b[0m\n\u001b[1;32m     52\u001b[0m         \u001b[0msuper\u001b[0m\u001b[0;34m(\u001b[0m\u001b[0mVispyWidget\u001b[0m\u001b[0;34m,\u001b[0m \u001b[0mself\u001b[0m\u001b[0;34m)\u001b[0m\u001b[0;34m.\u001b[0m\u001b[0m__init__\u001b[0m\u001b[0;34m(\u001b[0m\u001b[0;34m**\u001b[0m\u001b[0mkwargs\u001b[0m\u001b[0;34m)\u001b[0m\u001b[0;34m\u001b[0m\u001b[0m\n\u001b[0;32m---> 53\u001b[0;31m         \u001b[0mself\u001b[0m\u001b[0;34m.\u001b[0m\u001b[0mon_msg\u001b[0m\u001b[0;34m(\u001b[0m\u001b[0mself\u001b[0m\u001b[0;34m.\u001b[0m\u001b[0mevents_received\u001b[0m\u001b[0;34m)\u001b[0m\u001b[0;34m\u001b[0m\u001b[0m\n\u001b[0m\u001b[1;32m     54\u001b[0m         \u001b[0mself\u001b[0m\u001b[0;34m.\u001b[0m\u001b[0mcanvas\u001b[0m \u001b[0;34m=\u001b[0m \u001b[0;32mNone\u001b[0m\u001b[0;34m\u001b[0m\u001b[0m\n\u001b[1;32m     55\u001b[0m         \u001b[0mself\u001b[0m\u001b[0;34m.\u001b[0m\u001b[0mcanvas_backend\u001b[0m \u001b[0;34m=\u001b[0m \u001b[0;32mNone\u001b[0m\u001b[0;34m\u001b[0m\u001b[0m\n",
      "\u001b[0;31mAttributeError\u001b[0m: 'VispyWidget' object has no attribute 'on_msg'"
     ]
    },
    {
     "name": "stderr",
     "output_type": "stream",
     "text": [
      "WARNING: Traceback (most recent call last):\n",
      "  File \"/home/lars/.conda/envs/pyversor/lib/python3.6/runpy.py\", line 193, in _run_module_as_main\n",
      "    \"__main__\", mod_spec)\n",
      "  File \"/home/lars/.conda/envs/pyversor/lib/python3.6/runpy.py\", line 85, in _run_code\n",
      "    exec(code, run_globals)\n",
      "  File \"/home/lars/.conda/envs/pyversor/lib/python3.6/site-packages/ipykernel_launcher.py\", line 16, in <module>\n",
      "    app.launch_new_instance()\n",
      "  File \"/home/lars/.conda/envs/pyversor/lib/python3.6/site-packages/traitlets/config/application.py\", line 658, in launch_instance\n",
      "    app.start()\n",
      "  File \"/home/lars/.conda/envs/pyversor/lib/python3.6/site-packages/ipykernel/kernelapp.py\", line 477, in start\n",
      "    ioloop.IOLoop.instance().start()\n",
      "  File \"/home/lars/.conda/envs/pyversor/lib/python3.6/site-packages/zmq/eventloop/ioloop.py\", line 177, in start\n",
      "    super(ZMQIOLoop, self).start()\n",
      "  File \"/home/lars/.conda/envs/pyversor/lib/python3.6/site-packages/tornado/ioloop.py\", line 832, in start\n",
      "    self._run_callback(self._callbacks.popleft())\n",
      "  File \"/home/lars/.conda/envs/pyversor/lib/python3.6/site-packages/tornado/ioloop.py\", line 605, in _run_callback\n",
      "    ret = callback()\n",
      "  File \"/home/lars/.conda/envs/pyversor/lib/python3.6/site-packages/tornado/stack_context.py\", line 277, in null_wrapper\n",
      "    return fn(*args, **kwargs)\n",
      "  File \"/home/lars/devel/vispy/vispy/app/backends/_ipynb_webgl.py\", line 218, in _draw_event\n",
      "    self._vispy_canvas.events.draw()\n",
      "  File \"/home/lars/devel/vispy/vispy/util/event.py\", line 455, in __call__\n",
      "    self._invoke_callback(cb, event)\n",
      "  File \"/home/lars/devel/vispy/vispy/util/event.py\", line 475, in _invoke_callback\n",
      "    self, cb_event=(cb, event))\n",
      "  << caught exception here: >>\n",
      "  File \"/home/lars/devel/vispy/vispy/util/event.py\", line 471, in _invoke_callback\n",
      "    cb(event)\n",
      "  File \"/home/lars/devel/vispy/vispy/gloo/context.py\", line 170, in flush_commands\n",
      "    self.shared.parser.parse([('CURRENT', 0)])\n",
      "  File \"/home/lars/devel/vispy/vispy/app/backends/_ipynb_webgl.py\", line 115, in parse\n",
      "    self._widget.send_glir_commands(commands)\n",
      "AttributeError: 'NoneType' object has no attribute 'send_glir_commands'\n",
      "ERROR: Invoking <bound method GLContext.flush_commands of <GLContext at 0x7fab05bc5a20>> for DrawEvent\n",
      "WARNING: Traceback (most recent call last):\n",
      "  File \"/home/lars/.conda/envs/pyversor/lib/python3.6/runpy.py\", line 193, in _run_module_as_main\n",
      "    \"__main__\", mod_spec)\n",
      "  File \"/home/lars/.conda/envs/pyversor/lib/python3.6/runpy.py\", line 85, in _run_code\n",
      "    exec(code, run_globals)\n",
      "  File \"/home/lars/.conda/envs/pyversor/lib/python3.6/site-packages/ipykernel_launcher.py\", line 16, in <module>\n",
      "    app.launch_new_instance()\n",
      "  File \"/home/lars/.conda/envs/pyversor/lib/python3.6/site-packages/traitlets/config/application.py\", line 658, in launch_instance\n",
      "    app.start()\n",
      "  File \"/home/lars/.conda/envs/pyversor/lib/python3.6/site-packages/ipykernel/kernelapp.py\", line 477, in start\n",
      "    ioloop.IOLoop.instance().start()\n",
      "  File \"/home/lars/.conda/envs/pyversor/lib/python3.6/site-packages/zmq/eventloop/ioloop.py\", line 177, in start\n",
      "    super(ZMQIOLoop, self).start()\n",
      "  File \"/home/lars/.conda/envs/pyversor/lib/python3.6/site-packages/tornado/ioloop.py\", line 832, in start\n",
      "    self._run_callback(self._callbacks.popleft())\n",
      "  File \"/home/lars/.conda/envs/pyversor/lib/python3.6/site-packages/tornado/ioloop.py\", line 605, in _run_callback\n",
      "    ret = callback()\n",
      "  File \"/home/lars/.conda/envs/pyversor/lib/python3.6/site-packages/tornado/stack_context.py\", line 277, in null_wrapper\n",
      "    return fn(*args, **kwargs)\n",
      "  File \"/home/lars/devel/vispy/vispy/app/backends/_ipynb_webgl.py\", line 218, in _draw_event\n",
      "    self._vispy_canvas.events.draw()\n",
      "  File \"/home/lars/devel/vispy/vispy/util/event.py\", line 455, in __call__\n",
      "    self._invoke_callback(cb, event)\n",
      "  File \"/home/lars/devel/vispy/vispy/util/event.py\", line 475, in _invoke_callback\n",
      "    self, cb_event=(cb, event))\n",
      "  << caught exception here: >>\n",
      "  File \"/home/lars/devel/vispy/vispy/util/event.py\", line 471, in _invoke_callback\n",
      "    cb(event)\n",
      "  File \"/home/lars/devel/vispy/vispy/app/canvas.py\", line 417, in swap_buffers\n",
      "    self._backend._vispy_swap_buffers()\n",
      "  File \"/home/lars/devel/vispy/vispy/app/backends/_ipynb_webgl.py\", line 169, in _vispy_swap_buffers\n",
      "    context.shared.parser.parse([('SWAP',)])\n",
      "  File \"/home/lars/devel/vispy/vispy/app/backends/_ipynb_webgl.py\", line 115, in parse\n",
      "    self._widget.send_glir_commands(commands)\n",
      "AttributeError: 'NoneType' object has no attribute 'send_glir_commands'\n",
      "ERROR: Invoking <bound method Canvas.swap_buffers of <Canvas (ipynb_webgl) at 0x7fab05bc5dd8>> for DrawEvent\n",
      "ERROR: Invoking <bound method GLContext.flush_commands of <GLContext at 0x7fab05bc5a20>> repeat 2\n",
      "ERROR: Invoking <bound method Canvas.swap_buffers of <Canvas (ipynb_webgl) at 0x7fab05bc5dd8>> repeat 2\n",
      "ERROR: Invoking <bound method GLContext.flush_commands of <GLContext at 0x7fab05bc5a20>> repeat 4\n",
      "ERROR: Invoking <bound method Canvas.swap_buffers of <Canvas (ipynb_webgl) at 0x7fab05bc5dd8>> repeat 4\n",
      "ERROR: Invoking <bound method GLContext.flush_commands of <GLContext at 0x7fab05bc5a20>> repeat 8\n",
      "ERROR: Invoking <bound method Canvas.swap_buffers of <Canvas (ipynb_webgl) at 0x7fab05bc5dd8>> repeat 8\n",
      "ERROR: Invoking <bound method GLContext.flush_commands of <GLContext at 0x7fab05bc5a20>> repeat 16\n",
      "ERROR: Invoking <bound method Canvas.swap_buffers of <Canvas (ipynb_webgl) at 0x7fab05bc5dd8>> repeat 16\n",
      "ERROR: Invoking <bound method GLContext.flush_commands of <GLContext at 0x7fab05bc5a20>> repeat 32\n",
      "ERROR: Invoking <bound method Canvas.swap_buffers of <Canvas (ipynb_webgl) at 0x7fab05bc5dd8>> repeat 32\n",
      "ERROR: Invoking <bound method GLContext.flush_commands of <GLContext at 0x7fab05bc5a20>> repeat 64\n",
      "ERROR: Invoking <bound method Canvas.swap_buffers of <Canvas (ipynb_webgl) at 0x7fab05bc5dd8>> repeat 64\n",
      "ERROR: Invoking <bound method GLContext.flush_commands of <GLContext at 0x7fab05bc5a20>> repeat 128\n",
      "ERROR: Invoking <bound method Canvas.swap_buffers of <Canvas (ipynb_webgl) at 0x7fab05bc5dd8>> repeat 128\n",
      "ERROR: Invoking <bound method GLContext.flush_commands of <GLContext at 0x7fab05bc5a20>> repeat 256\n",
      "ERROR: Invoking <bound method Canvas.swap_buffers of <Canvas (ipynb_webgl) at 0x7fab05bc5dd8>> repeat 256\n",
      "ERROR: Invoking <bound method GLContext.flush_commands of <GLContext at 0x7fab05bc5a20>> repeat 512\n",
      "ERROR: Invoking <bound method Canvas.swap_buffers of <Canvas (ipynb_webgl) at 0x7fab05bc5dd8>> repeat 512\n"
     ]
    }
   ],
   "source": [
    "canvas = Canvas(keys='interactive')\n",
    "canvas.show()"
   ]
  },
  {
   "cell_type": "code",
   "execution_count": null,
   "metadata": {},
   "outputs": [],
   "source": []
  }
 ],
 "metadata": {
  "kernelspec": {
   "display_name": "Python 3",
   "language": "python",
   "name": "python3"
  },
  "language_info": {
   "codemirror_mode": {
    "name": "ipython",
    "version": 3
   },
   "file_extension": ".py",
   "mimetype": "text/x-python",
   "name": "python",
   "nbconvert_exporter": "python",
   "pygments_lexer": "ipython3",
   "version": "3.6.2"
  }
 },
 "nbformat": 4,
 "nbformat_minor": 2
}
