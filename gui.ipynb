{
 "cells": [
  {
   "cell_type": "code",
   "execution_count": 30,
   "metadata": {},
   "outputs": [],
   "source": [
    "import subprocess"
   ]
  },
  {
   "cell_type": "code",
   "execution_count": 31,
   "metadata": {},
   "outputs": [],
   "source": [
    "gui = subprocess.Popen(['python', 'gui.py'], stdout=subprocess.PIPE)"
   ]
  },
  {
   "cell_type": "code",
   "execution_count": 32,
   "metadata": {},
   "outputs": [
    {
     "data": {
      "text/plain": [
       "(b'[<BaseCamera at 0x7f8916c45390>, <ArcballCamera at 0x7f8916c7e9b0>, <XYZAxis at 0x7f8916c7e828>]\\n',\n",
       " None)"
      ]
     },
     "execution_count": 32,
     "metadata": {},
     "output_type": "execute_result"
    }
   ],
   "source": [
    "gui.communicate()"
   ]
  },
  {
   "cell_type": "code",
   "execution_count": 19,
   "metadata": {},
   "outputs": [],
   "source": [
    "gui.terminate()"
   ]
  },
  {
   "cell_type": "code",
   "execution_count": 7,
   "metadata": {},
   "outputs": [],
   "source": [
    "def gui():\n",
    "    from vispy import io\n",
    "    from vispy import scene, visuals\n",
    "    from vispy.gloo.util import _screenshot as screenshot\n",
    "    from vispy.visuals.transforms import MatrixTransform, STTransform\n",
    "    canvas = scene.SceneCanvas(keys='interactive', bgcolor='white',\n",
    "                           size=(1920,1080), show=True)\n",
    "    view = canvas.central_widget.add_view()\n",
    "    view.camera = 'arcball'\n",
    "    scene.visuals.XYZAxis(parent=view.scene)\n",
    "    canvas.show()\n",
    "#     canvas.app.run()"
   ]
  },
  {
   "cell_type": "code",
   "execution_count": 10,
   "metadata": {},
   "outputs": [
    {
     "name": "stderr",
     "output_type": "stream",
     "text": [
      "WARNING: QGtkStyle could not resolve GTK. Make sure you have installed the proper libraries.\n"
     ]
    }
   ],
   "source": [
    "p = Process(target=gui)\n",
    "p.start()"
   ]
  },
  {
   "cell_type": "code",
   "execution_count": 33,
   "metadata": {},
   "outputs": [],
   "source": [
    "p.join()"
   ]
  },
  {
   "cell_type": "code",
   "execution_count": 34,
   "metadata": {},
   "outputs": [],
   "source": [
    "isinstance?"
   ]
  }
 ],
 "metadata": {
  "kernelspec": {
   "display_name": "Python 3",
   "language": "python",
   "name": "python3"
  },
  "language_info": {
   "codemirror_mode": {
    "name": "ipython",
    "version": 3
   },
   "file_extension": ".py",
   "mimetype": "text/x-python",
   "name": "python",
   "nbconvert_exporter": "python",
   "pygments_lexer": "ipython3",
   "version": "3.6.2"
  }
 },
 "nbformat": 4,
 "nbformat_minor": 2
}
