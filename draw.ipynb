{
 "cells": [
  {
   "cell_type": "code",
   "execution_count": 1,
   "metadata": {},
   "outputs": [],
   "source": [
    "import numpy as np\n",
    "import pickle"
   ]
  },
  {
   "cell_type": "code",
   "execution_count": 12,
   "metadata": {},
   "outputs": [],
   "source": [
    "import sys\n",
    "sys.path.append('build')\n",
    "\n",
    "import numpy as np\n",
    "import numpy.random as rnd\n",
    "\n",
    "from pyversor import ega, cga\n",
    "import pickle"
   ]
  },
  {
   "cell_type": "code",
   "execution_count": 2,
   "metadata": {},
   "outputs": [],
   "source": [
    "import zmq\n",
    "def send(data):\n",
    "    port = \"5556\"\n",
    "    context = zmq.Context()\n",
    "    socket = context.socket(zmq.PAIR)\n",
    "    socket.connect(\"tcp://localhost:%s\" % port)\n",
    "    socket.send(data)\n",
    "    socket.close()"
   ]
  },
  {
   "cell_type": "code",
   "execution_count": 125,
   "metadata": {},
   "outputs": [],
   "source": [
    "def send_string(data):\n",
    "    port = \"5556\"\n",
    "    context = zmq.Context()\n",
    "    socket = context.socket(zmq.PAIR)\n",
    "    socket.connect(\"tcp://localhost:%s\" % port)\n",
    "    socket.send_string(data)\n",
    "    socket.close()"
   ]
  },
  {
   "cell_type": "code",
   "execution_count": 126,
   "metadata": {},
   "outputs": [],
   "source": [
    "def send_json(data):\n",
    "    port = \"5556\"\n",
    "    context = zmq.Context()\n",
    "    socket = context.socket(zmq.PAIR)\n",
    "    socket.connect(\"tcp://localhost:%s\" % port)\n",
    "    socket.send_json(data)\n",
    "    socket.close()"
   ]
  },
  {
   "cell_type": "code",
   "execution_count": 4,
   "metadata": {},
   "outputs": [],
   "source": [
    "n_points = 100000\n",
    "# generate data\n",
    "pos = np.random.normal(size=(n_points, 3), scale=0.2)\n",
    "# one could stop here for the data generation, the rest is just to make the\n",
    "# data look more interesting. Copied over from magnify.py\n",
    "centers = np.random.normal(size=(50, 3))\n",
    "indexes = np.random.normal(size=n_points, loc=centers.shape[0]/2.,\n",
    "                           scale=centers.shape[0]/3.)\n",
    "indexes = np.clip(indexes, 0, centers.shape[0]-1).astype(int)\n",
    "scales = 10**(np.linspace(-2, 0.5, centers.shape[0]))[indexes][:, np.newaxis]\n",
    "pos *= scales\n",
    "pos += centers[indexes]"
   ]
  },
  {
   "cell_type": "code",
   "execution_count": 5,
   "metadata": {},
   "outputs": [
    {
     "data": {
      "text/plain": [
       "(100000, 3)"
      ]
     },
     "execution_count": 5,
     "metadata": {},
     "output_type": "execute_result"
    }
   ],
   "source": [
    "pos.shape"
   ]
  },
  {
   "cell_type": "code",
   "execution_count": 6,
   "metadata": {},
   "outputs": [],
   "source": [
    "data = pickle.dumps(pos)"
   ]
  },
  {
   "cell_type": "code",
   "execution_count": 7,
   "metadata": {},
   "outputs": [],
   "source": [
    "send(data)"
   ]
  },
  {
   "cell_type": "code",
   "execution_count": 131,
   "metadata": {},
   "outputs": [
    {
     "data": {
      "text/plain": [
       "(10000, 3)"
      ]
     },
     "execution_count": 131,
     "metadata": {},
     "output_type": "execute_result"
    }
   ],
   "source": [
    "cylinder = []\n",
    "for i in range(100):\n",
    "    for j in range (100):\n",
    "        cylinder.append([(2*i/100)-1,(2*j/100)-1,np.sin(np.pi*i/100)-1])\n",
    "cylinder = np.array(cylinder)\n",
    "cylinder.shape"
   ]
  },
  {
   "cell_type": "code",
   "execution_count": 132,
   "metadata": {},
   "outputs": [],
   "source": [
    "data = pickle.dumps(cylinder)\n",
    "# send(data)"
   ]
  },
  {
   "cell_type": "code",
   "execution_count": 196,
   "metadata": {},
   "outputs": [],
   "source": [
    "def draw(obj, clear=False, color=None):\n",
    "    if isinstance(obj, cga.Quadvector) or isinstance(obj, cga.Vector):\n",
    "        msg = sphere_msg(obj)\n",
    "    if isinstance(obj, cga.DualLine) or isinstance(obj, cga.Vector):\n",
    "        msg = sphere_msg(obj)\n",
    "    else:\n",
    "        raise NotImplementedError\n",
    "    msg['clear'] = clear\n",
    "    if color is not None:\n",
    "        msg['color'] = color\n",
    "    data = pickle.dumps(msg)\n",
    "    send(data)"
   ]
  },
  {
   "cell_type": "code",
   "execution_count": 132,
   "metadata": {},
   "outputs": [],
   "source": [
    "def default_msg():\n",
    "    msg = {'type': '',\n",
    "           'color' : (),\n",
    "           'radius' : 0,\n",
    "           'translation': [],\n",
    "           'rotation' : [],\n",
    "           'clear': True,\n",
    "            }\n",
    "    return msg"
   ]
  },
  {
   "cell_type": "code",
   "execution_count": 197,
   "metadata": {},
   "outputs": [],
   "source": [
    "def sphere_msg(obj):\n",
    "    location = cga.round.location(obj)\n",
    "    radius = cga.round.radius(obj)\n",
    "    if radius == 0.0:\n",
    "        radius = 0.05\n",
    "    msg = default_msg()\n",
    "    msg['type'] = 'sphere'\n",
    "    msg['translation'] = [location[0], location[1], location[2]]\n",
    "    msg['radius'] = radius\n",
    "    return msg"
   ]
  },
  {
   "cell_type": "code",
   "execution_count": 253,
   "metadata": {},
   "outputs": [],
   "source": [
    "s = cga.Vector(*rnd.randn(5))\n",
    "p = cga.round.null(s)\n",
    "draw(p, color=np.random.uniform(0,1,4), clear=False)"
   ]
  },
  {
   "cell_type": "code",
   "execution_count": 230,
   "metadata": {},
   "outputs": [],
   "source": [
    "draw(p)"
   ]
  },
  {
   "cell_type": "code",
   "execution_count": 64,
   "metadata": {},
   "outputs": [
    {
     "data": {
      "text/plain": [
       "array([ 0.27209787,  0.94312731,  0.06754938,  0.52635906])"
      ]
     },
     "execution_count": 64,
     "metadata": {},
     "output_type": "execute_result"
    }
   ],
   "source": [
    "np.random.uniform(0,1,4)"
   ]
  },
  {
   "cell_type": "code",
   "execution_count": 237,
   "metadata": {},
   "outputs": [],
   "source": [
    "s = cga.Vector(*rnd.randn(5))\n",
    "draw(s, color=np.random.uniform(0,1,4), clear=True)"
   ]
  },
  {
   "cell_type": "code",
   "execution_count": 138,
   "metadata": {},
   "outputs": [],
   "source": [
    "from vispy.scene import Sphere, Markers"
   ]
  },
  {
   "cell_type": "code",
   "execution_count": 146,
   "metadata": {},
   "outputs": [],
   "source": [
    "a = Markers()\n",
    "a.set_data(np.array([[1,2,3], [1,2,3]]))"
   ]
  },
  {
   "cell_type": "code",
   "execution_count": 62,
   "metadata": {},
   "outputs": [],
   "source": [
    "s = Sphere()"
   ]
  },
  {
   "cell_type": "code",
   "execution_count": null,
   "metadata": {},
   "outputs": [],
   "source": [
    "s.a = cga.DualLine(*rnd.randn(6))"
   ]
  }
 ],
 "metadata": {
  "kernelspec": {
   "display_name": "Python 3",
   "language": "python",
   "name": "python3"
  },
  "language_info": {
   "codemirror_mode": {
    "name": "ipython",
    "version": 3
   },
   "file_extension": ".py",
   "mimetype": "text/x-python",
   "name": "python",
   "nbconvert_exporter": "python",
   "pygments_lexer": "ipython3",
   "version": "3.6.2"
  }
 },
 "nbformat": 4,
 "nbformat_minor": 2
}
